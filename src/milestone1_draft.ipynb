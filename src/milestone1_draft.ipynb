{
 "cells": [
  {
   "cell_type": "markdown",
   "id": "7b1afd6a-e90d-4dcd-b71a-54c9188085d3",
   "metadata": {},
   "source": [
    "# Classification on Diabete Dataset"
   ]
  },
  {
   "cell_type": "markdown",
   "id": "289cd5aa-174d-43f0-8da7-7f3d711aeaa6",
   "metadata": {},
   "source": [
    "# Summary"
   ]
  },
  {
   "cell_type": "markdown",
   "id": "13d2d6db-2c6a-4b3c-8cbd-646b7e492dfe",
   "metadata": {},
   "source": []
  },
  {
   "cell_type": "markdown",
   "id": "ae231565-b45b-4e5e-b7c2-fe8f9eb4171d",
   "metadata": {},
   "source": [
    "# Introduction"
   ]
  },
  {
   "cell_type": "markdown",
   "id": "53dd004a-c11d-4c16-a71a-eba73ef451b1",
   "metadata": {},
   "source": []
  },
  {
   "cell_type": "markdown",
   "id": "737edab3-0b62-4e95-b103-3dc2caa293d4",
   "metadata": {},
   "source": [
    "# Methods & Results"
   ]
  },
  {
   "cell_type": "markdown",
   "id": "d7a3b701-321d-42e6-b1bf-d12115e1f368",
   "metadata": {},
   "source": []
  },
  {
   "cell_type": "code",
   "execution_count": 5,
   "id": "c4a86046-5624-4de9-a784-7843060d43b5",
   "metadata": {
    "vscode": {
     "languageId": "r"
    }
   },
   "outputs": [
    {
     "name": "stderr",
     "output_type": "stream",
     "text": [
      "also installing the dependencies ‘shape’, ‘progressr’, ‘SQUAREM’, ‘diagram’, ‘lava’, ‘prodlim’, ‘warp’, ‘future.apply’, ‘iterators’, ‘listenv’, ‘parallelly’, ‘lhs’, ‘DiceDesign’, ‘sfd’, ‘sparsevctrs’, ‘patchwork’, ‘globals’, ‘clock’, ‘gower’, ‘ipred’, ‘timeDate’, ‘furrr’, ‘slider’, ‘doFuture’, ‘foreach’, ‘future’, ‘GPfit’, ‘modelenv’, ‘dials’, ‘hardhat’, ‘infer’, ‘modeldata’, ‘parsnip’, ‘recipes’, ‘rsample’, ‘tune’, ‘workflows’, ‘workflowsets’, ‘yardstick’\n",
      "\n",
      "\n"
     ]
    },
    {
     "name": "stdout",
     "output_type": "stream",
     "text": [
      "\n",
      "The downloaded binary packages are in\n",
      "\t/var/folders/sp/136d3tf94ns_hpp_7z4mgphm0000gp/T//RtmpjjwqNM/downloaded_packages\n"
     ]
    },
    {
     "name": "stderr",
     "output_type": "stream",
     "text": [
      "── \u001b[1mAttaching packages\u001b[22m ────────────────────────────────────── tidymodels 1.2.0 ──\n",
      "\n",
      "\u001b[32m✔\u001b[39m \u001b[34mbroom       \u001b[39m 1.0.7     \u001b[32m✔\u001b[39m \u001b[34mrsample     \u001b[39m 1.2.1\n",
      "\u001b[32m✔\u001b[39m \u001b[34mdials       \u001b[39m 1.4.0     \u001b[32m✔\u001b[39m \u001b[34mtune        \u001b[39m 1.2.1\n",
      "\u001b[32m✔\u001b[39m \u001b[34minfer       \u001b[39m 1.0.7     \u001b[32m✔\u001b[39m \u001b[34mworkflows   \u001b[39m 1.2.0\n",
      "\u001b[32m✔\u001b[39m \u001b[34mmodeldata   \u001b[39m 1.4.0     \u001b[32m✔\u001b[39m \u001b[34mworkflowsets\u001b[39m 1.1.0\n",
      "\u001b[32m✔\u001b[39m \u001b[34mparsnip     \u001b[39m 1.3.0     \u001b[32m✔\u001b[39m \u001b[34myardstick   \u001b[39m 1.3.2\n",
      "\u001b[32m✔\u001b[39m \u001b[34mrecipes     \u001b[39m 1.1.1     \n",
      "\n",
      "── \u001b[1mConflicts\u001b[22m ───────────────────────────────────────── tidymodels_conflicts() ──\n",
      "\u001b[31m✖\u001b[39m \u001b[34mscales\u001b[39m::\u001b[32mdiscard()\u001b[39m masks \u001b[34mpurrr\u001b[39m::discard()\n",
      "\u001b[31m✖\u001b[39m \u001b[34mdplyr\u001b[39m::\u001b[32mfilter()\u001b[39m   masks \u001b[34mstats\u001b[39m::filter()\n",
      "\u001b[31m✖\u001b[39m \u001b[34mrecipes\u001b[39m::\u001b[32mfixed()\u001b[39m  masks \u001b[34mstringr\u001b[39m::fixed()\n",
      "\u001b[31m✖\u001b[39m \u001b[34mdplyr\u001b[39m::\u001b[32mlag()\u001b[39m      masks \u001b[34mstats\u001b[39m::lag()\n",
      "\u001b[31m✖\u001b[39m \u001b[34myardstick\u001b[39m::\u001b[32mspec()\u001b[39m masks \u001b[34mreadr\u001b[39m::spec()\n",
      "\u001b[31m✖\u001b[39m \u001b[34mrecipes\u001b[39m::\u001b[32mstep()\u001b[39m   masks \u001b[34mstats\u001b[39m::step()\n",
      "\u001b[34m•\u001b[39m Use suppressPackageStartupMessages() to eliminate package startup messages\n",
      "\n"
     ]
    },
    {
     "ename": "ERROR",
     "evalue": "Error in library(ROSE): there is no package called ‘ROSE’\n",
     "output_type": "error",
     "traceback": [
      "Error in library(ROSE): there is no package called ‘ROSE’\nTraceback:\n",
      "1. stop(packageNotFoundError(package, lib.loc, sys.call()))"
     ]
    }
   ],
   "source": [
    "options(repr.plot.width = 15, repr.plot.height = 10, warn = -1)\n",
    "\n",
    "library(reticulate)\n",
    "library(tidyverse)\n",
    "install.packages(\"tidymodels\")\n",
    "library(tidymodels)\n",
    "library(ggplot2)\n",
    "library(patchwork)\n",
    "install.packages(\"ROSE\")\n",
    "library(ROSE)"
   ]
  },
  {
   "cell_type": "markdown",
   "id": "0a9ee43d-774e-479b-9874-acf81f39c3fe",
   "metadata": {},
   "source": [
    "### (1) Load data from the original source on the web"
   ]
  },
  {
   "cell_type": "code",
   "execution_count": null,
   "id": "00c6e2c7-738b-45ae-beee-b9432c714aa4",
   "metadata": {
    "vscode": {
     "languageId": "r"
    }
   },
   "outputs": [],
   "source": [
    "# do only once. Takes ages but it works. \n",
    "# This run the python script to extract file from uci in R\n",
    "\n",
    "py_run_file(\"/home/jovyan/work/src/dataset_download.py\")"
   ]
  },
  {
   "cell_type": "code",
   "execution_count": null,
   "id": "b2491305-3206-4294-82a3-362f5574ea25",
   "metadata": {
    "vscode": {
     "languageId": "r"
    }
   },
   "outputs": [],
   "source": [
    "# read out the raw csv\n",
    "raw_diabetes_df <- read_csv(\"/home/jovyan/work/data/raw/cdc_diabetes_health_indicators.csv\", show_col_types = FALSE)\n",
    "head(raw_diabetes_df, n = 5)"
   ]
  },
  {
   "cell_type": "markdown",
   "id": "16e699d9-515c-4253-9cca-c672997c4644",
   "metadata": {},
   "source": [
    "### (2) Wrangle and cleans the data from it’s original "
   ]
  },
  {
   "cell_type": "code",
   "execution_count": null,
   "id": "0a9b9e03-02b6-444a-b3bd-47325875261d",
   "metadata": {
    "vscode": {
     "languageId": "r"
    }
   },
   "outputs": [],
   "source": [
    "# (1) check for NA values\n",
    "# no NA values\n",
    "\n",
    "na_check <- colSums(is.na(raw_diabetes_df))\n",
    "na_check"
   ]
  },
  {
   "cell_type": "code",
   "execution_count": null,
   "id": "3f852fbd-12ce-4c77-9b8c-c9dad8052c94",
   "metadata": {
    "vscode": {
     "languageId": "r"
    }
   },
   "outputs": [],
   "source": [
    "# (2) check the number of unique values in each variable + covert dbl to factor\n",
    "\n",
    "# Some factor are still in double form - also refer to metadata for what to convert\n",
    "\n",
    "class_counts <- sapply(raw_diabetes_df, function(x) length(unique(x)))\n",
    "class_counts\n",
    "\n",
    "# These variables need to be converted to factor type, especially when applying ROSE\n",
    "# Synthesis of balanced samples depends on the format of the data\n",
    "\n",
    "# ----------------------------------------\n",
    "# Converting the following columns to factor type\n",
    "\n",
    "factor_columns <- c(\"Diabetes_binary\", \"HighBP\", \"HighChol\", \"CholCheck\", \"Smoker\", \n",
    "                    \"Stroke\", \"HeartDiseaseorAttack\", \"PhysActivity\", \"Fruits\", \n",
    "                    \"Veggies\", \"HvyAlcoholConsump\", \"AnyHealthcare\", \"NoDocbcCost\", \n",
    "                    \"DiffWalk\", \"Sex\", \"Age\", \"Education\", \"Income\")\n",
    "\n",
    "raw_diabetes_df <- raw_diabetes_df %>%\n",
    "  mutate(across(all_of(factor_columns), ~ factor(.)))\n",
    "\n",
    "head(raw_diabetes_df, n = 5)"
   ]
  },
  {
   "cell_type": "code",
   "execution_count": null,
   "id": "65b203e2-e7e1-4e91-9be5-2ecbbf74d05f",
   "metadata": {
    "vscode": {
     "languageId": "r"
    }
   },
   "outputs": [],
   "source": [
    "# (3) check how unbalance is the dataset + balance the data\n",
    "\n",
    "# it's pretty unbalanced\n",
    "target_result <- raw_diabetes_df %>%\n",
    "  group_by(Diabetes_binary) %>%\n",
    "  summarise(\n",
    "    Count = n(),\n",
    "    Proportion = n() / nrow(raw_diabetes_df)\n",
    "  ) %>%\n",
    "  ungroup()\n",
    "\n",
    "target_result\n",
    "\n",
    "# ----------------------------------------\n",
    "# use ROSE to balance data by oversampling\n",
    "\n",
    "set.seed(6)\n",
    "\n",
    "balanced_raw_diabetes_df <- ROSE(Diabetes_binary ~ ., data = raw_diabetes_df, seed = 123)$data\n",
    "\n",
    "balanced_target_result <- balanced_raw_diabetes_df %>%\n",
    "  group_by(Diabetes_binary) %>%\n",
    "  summarise(\n",
    "    Count = n(),\n",
    "    Proportion = n() / nrow(balanced_raw_diabetes_df)\n",
    "  ) %>%\n",
    "  ungroup()\n",
    "\n",
    "balanced_target_result"
   ]
  },
  {
   "cell_type": "code",
   "execution_count": null,
   "id": "cda3ca68-da74-460e-bbba-98e0540dde71",
   "metadata": {
    "vscode": {
     "languageId": "r"
    }
   },
   "outputs": [],
   "source": [
    "# Write out balanced df into data/processed/ so we don't have to run all the step above each time\n",
    "balanced_raw_diabetes_df %>% write_csv(\"/home/jovyan/work/data/processed/balanced_cdc_diabetes_health_indicators.csv\")"
   ]
  },
  {
   "cell_type": "code",
   "execution_count": null,
   "id": "b162a4c8-8573-4707-bed3-738b53c69865",
   "metadata": {
    "vscode": {
     "languageId": "r"
    }
   },
   "outputs": [],
   "source": [
    "# Then read it out again so we dont have to run the steps above\n",
    "balanced_raw_diabetes_df <- read_csv(\"/home/jovyan/work/data/processed/balanced_cdc_diabetes_health_indicators.csv\", show_col_types = FALSE)\n",
    "\n",
    "# have to refactor them again - b/c reading in as csv again\n",
    "factor_columns <- c(\"Diabetes_binary\", \"HighBP\", \"HighChol\", \"CholCheck\", \"Smoker\", \n",
    "                    \"Stroke\", \"HeartDiseaseorAttack\", \"PhysActivity\", \"Fruits\", \n",
    "                    \"Veggies\", \"HvyAlcoholConsump\", \"AnyHealthcare\", \"NoDocbcCost\", \n",
    "                    \"DiffWalk\", \"Sex\", \"Age\", \"Education\", \"Income\")\n",
    "\n",
    "balanced_raw_diabetes_df <- balanced_raw_diabetes_df %>%\n",
    "  mutate(across(all_of(factor_columns), ~ factor(.)))"
   ]
  },
  {
   "cell_type": "code",
   "execution_count": null,
   "id": "242b697e-e0b8-4ba0-8221-1374dc5b2e42",
   "metadata": {
    "vscode": {
     "languageId": "r"
    }
   },
   "outputs": [],
   "source": [
    "# split the data into training and testing set \n",
    "\n",
    "set.seed(6)\n",
    "\n",
    "diabetes_split <- initial_split(balanced_raw_diabetes_df, prop = 0.75, strata = Diabetes_binary)\n",
    "diabetes_train <- training(diabetes_split)\n",
    "diabetes_test <- testing(diabetes_split)"
   ]
  },
  {
   "cell_type": "markdown",
   "id": "0e2955cc-185d-40c9-b4e3-9ae5cacc516c",
   "metadata": {},
   "source": [
    "### (3) Exploratory data analysis on training set"
   ]
  },
  {
   "cell_type": "code",
   "execution_count": null,
   "id": "319518c6-980f-4cb0-9be3-2c535dddd963",
   "metadata": {
    "vscode": {
     "languageId": "r"
    }
   },
   "outputs": [],
   "source": [
    "# reusable function for plotting\n",
    "\n",
    "create_bar_plot <- function(data, x_var, title, x_label, y_label = \"Count\", y_limits = NULL) {\n",
    "  plot <- ggplot(data, aes(x = !!sym(x_var), fill = Diabetes_binary)) +\n",
    "    geom_bar(position = \"dodge\", color = \"black\") +\n",
    "    scale_fill_manual(values = c(\"#FF9999\", \"#66B2FF\")) +\n",
    "    labs(title = title, x = x_label, y = y_label) +\n",
    "    theme_minimal() +\n",
    "    theme(\n",
    "      text = element_text(size = 12, family = \"Arial\"),\n",
    "      plot.title = element_text(hjust = 0.5),\n",
    "      axis.text.x = element_text(angle = 45, hjust = 1)\n",
    "    )\n",
    "  \n",
    "  if (!is.null(y_limits)) {\n",
    "    plot <- plot + scale_y_continuous(limits = y_limits)\n",
    "  }\n",
    "  \n",
    "  return(plot)\n",
    "}\n",
    "\n",
    "\n",
    "create_box_plot <- function(data, x_var, y_var, title, x_label, y_label) {\n",
    "  ggplot(data, aes(x = !!sym(x_var), y = !!sym(y_var), fill = !!sym(x_var))) +\n",
    "    geom_boxplot(outlier.shape = 16, outlier.size = 2) +\n",
    "    scale_fill_manual(values = c(\"#FF9999\", \"#66B2FF\")) +\n",
    "    labs(title = title, x = x_label, y = y_label) +\n",
    "    theme_minimal() +\n",
    "    theme(\n",
    "      text = element_text(size = 12, family = \"Arial\"),\n",
    "      plot.title = element_text(hjust = 0.5)\n",
    "    )\n",
    "}\n",
    "\n",
    "create_scatter_plot <- function(data, x_var, y_var, title, x_label, y_label) {\n",
    "  ggplot(data, aes(x = !!sym(x_var), y = !!sym(y_var), color = Diabetes_binary)) +\n",
    "    geom_point(alpha = 0.3, size = 3) +\n",
    "    scale_color_manual(values = c(\"#FF9999\", \"#66B2FF\")) +\n",
    "    labs(title = title, x = x_label, y = y_label) +\n",
    "    theme_minimal() +\n",
    "    theme(\n",
    "      text = element_text(size = 12, family = \"Arial\"),\n",
    "      plot.title = element_text(hjust = 0.5)\n",
    "    )\n",
    "}\n",
    "\n",
    "# ------------------------------------------\n",
    "\n",
    "# Create bar plots\n",
    "max_y_value <- max(\n",
    "  max(table(diabetes_train$HighBP, diabetes_train$Diabetes_binary)),\n",
    "  max(table(diabetes_train$HighChol, diabetes_train$Diabetes_binary)),\n",
    "  max(table(diabetes_train$CholCheck, diabetes_train$Diabetes_binary)),\n",
    "  max(table(diabetes_train$Smoker, diabetes_train$Diabetes_binary))\n",
    ")\n",
    "\n",
    "y_limits <- c(0, max_y_value)\n",
    "\n",
    "plot_highbp <- create_bar_plot(diabetes_train, \"HighBP\", \"Distribution of HighBP by Diabetes Status\", \"High Blood Pressure\", y_limits = y_limits)\n",
    "plot_highchol <- create_bar_plot(diabetes_train, \"HighChol\", \"Distribution of High Cholesterol by Diabetes Status\", \"High Cholesterol\", y_limits = y_limits)\n",
    "plot_cholcheck <- create_bar_plot(diabetes_train, \"CholCheck\", \"Distribution of Cholesterol Check by Diabetes Status\", \"Cholesterol Check\", y_limits = y_limits)\n",
    "plot_smoker <- create_bar_plot(diabetes_train, \"Smoker\", \"Distribution of Smoking by Diabetes Status\", \"Smoker\", y_limits = y_limits)\n",
    "\n",
    "# Create box plot\n",
    "plot_bmi_box <- create_box_plot(diabetes_train, \"Diabetes_binary\", \"BMI\", \"BMI Distribution by Diabetes Status\", \"Diabetes Status\", \"BMI\")\n",
    "\n",
    "# Create scatter plot\n",
    "plot_bmi_age_scatter <- create_scatter_plot(diabetes_train, \"BMI\", \"Age\", \"Scatter Plot of BMI vs Age by Diabetes Status\", \"BMI\", \"Age\")"
   ]
  },
  {
   "cell_type": "code",
   "execution_count": null,
   "id": "2125be3e-0776-433d-9a29-165bd03851b7",
   "metadata": {
    "scrolled": true,
    "vscode": {
     "languageId": "r"
    }
   },
   "outputs": [],
   "source": [
    "(plot_highbp | plot_highchol | plot_cholcheck) /\n",
    "(plot_smoker | plot_bmi_box | plot_bmi_age_scatter)"
   ]
  },
  {
   "cell_type": "code",
   "execution_count": null,
   "id": "43f3fd2d-eae1-450f-a5d1-1a3001e2130c",
   "metadata": {
    "vscode": {
     "languageId": "r"
    }
   },
   "outputs": [],
   "source": []
  }
 ],
 "metadata": {
  "kernelspec": {
   "display_name": "R",
   "language": "R",
   "name": "ir"
  },
  "language_info": {
   "codemirror_mode": "r",
   "file_extension": ".r",
   "mimetype": "text/x-r-source",
   "name": "R",
   "pygments_lexer": "r",
   "version": "4.4.2"
  }
 },
 "nbformat": 4,
 "nbformat_minor": 5
}
